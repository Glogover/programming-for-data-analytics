


import pandas as pd


import matplotlib.pyplot as plt


url = "https://drive.google.com/uc?id=1AWPf-pJodJKeHsARQK_RHiNsE8fjPCVK&export=download"


df = pd.read_csv(url)
#df.head()


df['domain'] = df['Email'].str.split('@').str[1]
#df.head(3)


counts = df['domain'].value_counts()


#counts


plt.figure(figsize=(8, 8))
plt.pie(
    counts,
    labels=counts.index,
    autopct='%1.1f%%',
    startangle=90,       
    counterclock=False,  
    shadow=True,        
    wedgeprops={'edgecolor': 'white', 'linewidth': 1},  
    colors=plt.cm.Set3.colors
)

plt.title('Pie chart of email domains', fontsize=16, fontweight='bold', pad=20)
plt.tight_layout()
plt.show()
