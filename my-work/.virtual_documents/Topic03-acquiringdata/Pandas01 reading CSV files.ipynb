


import pandas as pd


# just check the directory and file are there
#!dir "../data"


# up one levels to topic03 and then down into data
#datadir = "../data/"
filename="people-100.csv"





#df= pd.read_csv(datadir+filename)
df = pd.read_csv(filename)





df.head()


df.info()





#df = pd.read_csv(datadir+filename, parse_dates=['Date of birth'])
df = pd.read_csv(filename, parse_dates=['Date of birth'])
df.info()





names_of_columns=['First Name', 'Last Name','Email','Phone', 'Date of birth']
#df = pd.read_csv(datadir+filename,  usecols=names_of_columns,)
df = pd.read_csv(filename,  usecols=names_of_columns)
df.head(3)





filename="people-100-no-header.csv"


#df= pd.read_csv(datadir+filename)
df= pd.read_csv(filename)
df.head(3)


#df= pd.read_csv(datadir+filename, header=None, index_col=0)
df= pd.read_csv(filename, header=None, index_col=0)
df.head(3)


names=['index','id','firstname','lastname','sex','email','phone','DOB','occupation']
#df= pd.read_csv(datadir+filename, header=None,index_col=0,names=names, parse_dates=['DOB'])
df= pd.read_csv(filename, header=None,index_col=0,names=names, parse_dates=['DOB'])
df.head(3)
#df.info()





df = pd.read_csv("https://drive.google.com/uc?id=1zO8ekHWx9U7mrbx_0Hoxxu6od7uxJqWw&export=download")
df.head(3)





# It can take a while to find a file you want
# this file contains weather info for phoenix in 2020
remote_file = "s3://noaa-gsod-pds/2020/72278023183.csv"

df = pd.read_csv(remote_file, storage_options={"anon": True})
df.head(3)





workbookFileName = 's3Data.xlsx'
df.to_excel(workbookFileName, sheet_name='phoenix', index=False)






