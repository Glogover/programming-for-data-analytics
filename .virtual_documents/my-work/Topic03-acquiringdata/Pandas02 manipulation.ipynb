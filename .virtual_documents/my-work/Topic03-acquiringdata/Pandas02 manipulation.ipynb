


import pandas as pd


# just check the directory and file are there
# !dir "../data"


# up one levels to topic03 and then down into data
#datadir = "../data/"
#people_filename=datadir+"people-100.csv"
people_filename="people-100.csv"
#timetable_filename = datadir+"timetable.tsv"
timetable_filename ="timetable.tsv"





df= pd.read_csv(timetable_filename, sep="\t")
df.head(4)





#df.iloc[40:50]  # returns rows 40 to 50
#df.loc[[42,44]]  # returns rows 42 and 44
df.loc[[42,44],['Staff (delimited)']]  ## only return the staff column





#df[df['Staff (delimited)'].str.contains('/')]
cleandf= df.fillna(value=' ')
cleandf[cleandf['Staff (delimited)'].str.contains('/')]





df.drop([1,3])
df.head(4)





df.drop([1,3], inplace=True)
#df= df.drop([1,3])
df.head(4)


df.iloc[[2,4]]


df.loc[[2,4]]





df['total_hours'] = df['Duration'] * df['Number of Weeks']
df.head(3)


people_df = pd.read_csv(people_filename)
people_df.head(3)





people_df['domain'] = people_df['Email'].str.split('@').str[1]
people_df.head(3)






