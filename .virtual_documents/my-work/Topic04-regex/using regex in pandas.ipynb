


import pandas as pd
# import re I am not directly using the re package in any of these

datadir = "../data/"
people_filename=datadir+"people-100.csv"





people_df = pd.read_csv(people_filename)
people_df.head(3)





people_df['domain'] = people_df['Email'].str.split('@').str[1]
people_df.head(3)





people_df.drop('domain', axis=1, inplace=True)
people_df.head(3)





string = "ann has €1000, john has €234"
newString = string.replace(r"\d", "X", regex=True)
print (newString)


pattern = r".*@"
people_df['domain'] = people_df['Email'].str.replace(pattern, '', regex=True)
people_df.head(3)


## a more precise pattern
pattern = r".*@([\w\.]+\.\w{2,3})"
people_df['domain'] = people_df['Email'].str.replace(pattern, '\\1', regex=True)
people_df.head(3)





the_extension_pattern=r"x\d*"
people_df['clean_phone'] = people_df['Phone'].str.replace(the_extension_pattern, '', regex=True)
people_df.head(3)


otherchars_pattern=r"[\-\. \(\)]*"
people_df['clean_phone'] = people_df['clean_phone'].str.replace(otherchars_pattern, '', regex=True)
people_df.head(3)





prefix_pattern=r"^([^\+0].*)"
people_df['clean_phone'] = people_df['clean_phone'].str.replace(prefix_pattern, '+1\\1', regex=True)
people_df.head(3)





prefix_pattern=r"^00(.*)"
people_df['clean_phone'] = people_df['clean_phone'].str.replace(prefix_pattern, '+\\1', regex=True)
people_df.head(3)





extension_pattern=r"^.*x"
people_df['extension'] = people_df['Phone'].str.replace(extension_pattern, '', regex=True)
people_df.head(3)





extension_pattern=r"x(\d+)"
people_df['extension'] = people_df['Phone'].str.extract(extension_pattern)
people_df.head(3)





people_df[people_df['Phone'].str.contains(r'^\+|00')]


people_df[people_df['Phone'].str.contains(r'^\+|^00')]
