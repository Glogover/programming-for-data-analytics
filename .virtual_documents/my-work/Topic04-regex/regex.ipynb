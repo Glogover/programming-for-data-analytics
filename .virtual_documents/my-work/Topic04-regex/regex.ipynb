





sentence = "The Quick Brown Fox Jumps Over The Lazy Dog"
paragraph = """Once apon a
            time there lived
            3 bears and 1 girl 
            They all owed the bank $1000. 
            Ouch!"""
website = "www.medium.com"

special_characters = "[\^$.|?*+()"





paragraph.split(" ")





import re





pattern = "Quick"
re.findall(pattern, sentence)


pattern = "quick"
re.findall(pattern, sentence)


pattern = "quick"
re.findall(pattern, sentence,re.IGNORECASE)





pattern = "bears"
re.search(pattern, paragraph)





pattern ="www\.medium\.com" 
re.findall(pattern, website)





pattern ="\d"  
re.findall(pattern, paragraph)


pattern ="\d+"  
re.findall(pattern, paragraph)





pattern ="\w+"  
re.findall(pattern, paragraph)


pattern ="\w"  
re.findall(pattern, paragraph)





lowercase_alphabet = "abcdefghijklmnopqrstuvwxyz"
pattern = "b"
print(re.findall(pattern, lowercase_alphabet))
pattern = "^b"
print(re.findall(pattern, lowercase_alphabet))
pattern = "b$"
print(re.findall(pattern, lowercase_alphabet))
pattern = "z$"
print(re.findall(pattern, lowercase_alphabet))








re.findall("\w{1,}", sentence)


re.findall("\w+", sentence)


re.findall("\w+", paragraph)





phone_numbers = """123-456-7890
                    987.654.321 # an ip address
                    234-567-8901
                    654.321.987 # an ip address
                    345-678-9012
                    +321 654 9784 # a phone number with a .
                    456-789-012 # badly formatted
                    999.666.333
                    45678   # I don't know what this is !!
                """
re.findall("\d{3}\-\d{3}\-\d{4}", phone_numbers)





re.findall("\+?\d{3}[\- ]\d{3}[\- ]\d{4}", phone_numbers)





pattern = "\d \w+"
re.findall(pattern, paragraph)





pattern = "(\d )\w+"
replacement = "\\1 XXX"
print(re.sub(pattern, replacement, paragraph))
print(paragraph)





re.findall("\d{3}[\-\.]\d{3}[\-\.]\d{3}", phone_numbers)






